{
 "cells": [
  {
   "cell_type": "markdown",
   "metadata": {},
   "source": [
    "# VacationPy\n",
    "----\n",
    "\n",
    "#### Note\n",
    "* Keep an eye on your API usage. Use https://developers.google.com/maps/reporting/gmp-reporting as reference for how to monitor your usage and billing.\n",
    "\n",
    "* Instructions have been included for each segment. You do not have to follow them exactly, but they are included to help you think through the steps."
   ]
  },
  {
   "cell_type": "code",
   "execution_count": 96,
   "metadata": {},
   "outputs": [],
   "source": [
    "# Dependencies and Setup\n",
    "import matplotlib.pyplot as plt\n",
    "import pandas as pd\n",
    "import numpy as np\n",
    "import requests\n",
    "import gmaps\n",
    "import os\n",
    "\n",
    "# Import API key\n",
    "from api_keys import g_key"
   ]
  },
  {
   "cell_type": "markdown",
   "metadata": {},
   "source": [
    "### Store Part I results into DataFrame\n",
    "* Load the csv exported in Part I to a DataFrame"
   ]
  },
  {
   "cell_type": "code",
   "execution_count": 97,
   "metadata": {},
   "outputs": [
    {
     "data": {
      "text/html": [
       "<div>\n",
       "<style scoped>\n",
       "    .dataframe tbody tr th:only-of-type {\n",
       "        vertical-align: middle;\n",
       "    }\n",
       "\n",
       "    .dataframe tbody tr th {\n",
       "        vertical-align: top;\n",
       "    }\n",
       "\n",
       "    .dataframe thead th {\n",
       "        text-align: right;\n",
       "    }\n",
       "</style>\n",
       "<table border=\"1\" class=\"dataframe\">\n",
       "  <thead>\n",
       "    <tr style=\"text-align: right;\">\n",
       "      <th></th>\n",
       "      <th>Unnamed: 0</th>\n",
       "      <th>City</th>\n",
       "      <th>Lat</th>\n",
       "      <th>Lng</th>\n",
       "      <th>Max Temp</th>\n",
       "      <th>Humidity</th>\n",
       "      <th>Cloudiness</th>\n",
       "      <th>Wind Speed</th>\n",
       "      <th>Country</th>\n",
       "      <th>Date</th>\n",
       "    </tr>\n",
       "  </thead>\n",
       "  <tbody>\n",
       "    <tr>\n",
       "      <th>0</th>\n",
       "      <td>0</td>\n",
       "      <td>Nikolskoye</td>\n",
       "      <td>59.7035</td>\n",
       "      <td>30.7861</td>\n",
       "      <td>287.09</td>\n",
       "      <td>71</td>\n",
       "      <td>67</td>\n",
       "      <td>1.07</td>\n",
       "      <td>RU</td>\n",
       "      <td>1628041600</td>\n",
       "    </tr>\n",
       "    <tr>\n",
       "      <th>1</th>\n",
       "      <td>1</td>\n",
       "      <td>Mataura</td>\n",
       "      <td>-46.1927</td>\n",
       "      <td>168.8643</td>\n",
       "      <td>275.08</td>\n",
       "      <td>91</td>\n",
       "      <td>100</td>\n",
       "      <td>1.34</td>\n",
       "      <td>NZ</td>\n",
       "      <td>1628107190</td>\n",
       "    </tr>\n",
       "    <tr>\n",
       "      <th>2</th>\n",
       "      <td>2</td>\n",
       "      <td>Puerto Ayora</td>\n",
       "      <td>-0.7393</td>\n",
       "      <td>-90.3518</td>\n",
       "      <td>301.13</td>\n",
       "      <td>75</td>\n",
       "      <td>17</td>\n",
       "      <td>3.13</td>\n",
       "      <td>EC</td>\n",
       "      <td>1628078693</td>\n",
       "    </tr>\n",
       "    <tr>\n",
       "      <th>3</th>\n",
       "      <td>3</td>\n",
       "      <td>São João da Barra</td>\n",
       "      <td>-21.6403</td>\n",
       "      <td>-41.0511</td>\n",
       "      <td>297.2</td>\n",
       "      <td>65</td>\n",
       "      <td>7</td>\n",
       "      <td>6.77</td>\n",
       "      <td>BR</td>\n",
       "      <td>1628068478</td>\n",
       "    </tr>\n",
       "    <tr>\n",
       "      <th>4</th>\n",
       "      <td>4</td>\n",
       "      <td>Meulaboh</td>\n",
       "      <td>4.1363</td>\n",
       "      <td>96.1285</td>\n",
       "      <td>297.63</td>\n",
       "      <td>87</td>\n",
       "      <td>100</td>\n",
       "      <td>1.77</td>\n",
       "      <td>ID</td>\n",
       "      <td>1628119976</td>\n",
       "    </tr>\n",
       "  </tbody>\n",
       "</table>\n",
       "</div>"
      ],
      "text/plain": [
       "  Unnamed: 0               City       Lat       Lng Max Temp Humidity  \\\n",
       "0          0         Nikolskoye   59.7035   30.7861   287.09       71   \n",
       "1          1            Mataura  -46.1927  168.8643   275.08       91   \n",
       "2          2       Puerto Ayora   -0.7393  -90.3518   301.13       75   \n",
       "3          3  São João da Barra  -21.6403  -41.0511    297.2       65   \n",
       "4          4           Meulaboh    4.1363   96.1285   297.63       87   \n",
       "\n",
       "  Cloudiness Wind Speed Country        Date  \n",
       "0         67       1.07      RU  1628041600  \n",
       "1        100       1.34      NZ  1628107190  \n",
       "2         17       3.13      EC  1628078693  \n",
       "3          7       6.77      BR  1628068478  \n",
       "4        100       1.77      ID  1628119976  "
      ]
     },
     "execution_count": 97,
     "metadata": {},
     "output_type": "execute_result"
    }
   ],
   "source": [
    "# Note: python would only acknowledge the existence of the weather data file if I gave it the whole file address. This has been a persistent problem for me, and I don't know how to resolve it.\n",
    "weather_data_file = \"C:\\\\Users\\\\pippi\\\\OneDrive\\\\Documents\\\\nu-chi-data-pt-06-2021-u-c-master\\\\06-Python-APIs\\\\Homework\\\\due_July29\\\\Instructions\\\\output_data\\\\weather_data.csv\"\n",
    "weather_data_original = pd.read_csv(weather_data_file, dtype = \"object\", encoding = 'utf-8')\n",
    "weather_data_original.head()"
   ]
  },
  {
   "cell_type": "markdown",
   "metadata": {},
   "source": [
    "### Humidity Heatmap\n",
    "* Configure gmaps.\n",
    "* Use the Lat and Lng as locations and Humidity as the weight.\n",
    "* Add Heatmap layer to map."
   ]
  },
  {
   "cell_type": "code",
   "execution_count": 98,
   "metadata": {},
   "outputs": [],
   "source": [
    "# Configure gmaps\n",
    "gmaps.configure(api_key=g_key)"
   ]
  },
  {
   "cell_type": "code",
   "execution_count": 100,
   "metadata": {},
   "outputs": [
    {
     "data": {
      "application/vnd.jupyter.widget-view+json": {
       "model_id": "e8819af832eb47349dcd9d96387fe9c0",
       "version_major": 2,
       "version_minor": 0
      },
      "text/plain": [
       "Figure(layout=FigureLayout(height='420px'))"
      ]
     },
     "metadata": {},
     "output_type": "display_data"
    }
   ],
   "source": [
    "# Use the Lat and Lng as locations and Humidity as the weight.\n",
    "locations = weather_data_original[[\"Lat\", \"Lng\"]].astype(float)\n",
    "humidity = weather_data_original['Humidity']\n",
    "\n",
    "# Create the Heatmap\n",
    "fig = gmaps.figure()\n",
    "\n",
    "heat_layer = gmaps.heatmap_layer(locations, weights = humidity,\n",
    "                                dissipating=False, max_intensity=100,\n",
    "                                point_radius = 1)\n",
    "\n",
    "fig.add_layer(heat_layer)\n",
    "\n",
    "fig"
   ]
  },
  {
   "cell_type": "markdown",
   "metadata": {},
   "source": [
    "### Create new DataFrame fitting weather criteria\n",
    "* Narrow down the cities to fit weather conditions.\n",
    "* Drop any rows will null values."
   ]
  },
  {
   "cell_type": "code",
   "execution_count": 102,
   "metadata": {},
   "outputs": [
    {
     "data": {
      "text/html": [
       "<div>\n",
       "<style scoped>\n",
       "    .dataframe tbody tr th:only-of-type {\n",
       "        vertical-align: middle;\n",
       "    }\n",
       "\n",
       "    .dataframe tbody tr th {\n",
       "        vertical-align: top;\n",
       "    }\n",
       "\n",
       "    .dataframe thead th {\n",
       "        text-align: right;\n",
       "    }\n",
       "</style>\n",
       "<table border=\"1\" class=\"dataframe\">\n",
       "  <thead>\n",
       "    <tr style=\"text-align: right;\">\n",
       "      <th></th>\n",
       "      <th>Unnamed: 0</th>\n",
       "      <th>City</th>\n",
       "      <th>Lat</th>\n",
       "      <th>Lng</th>\n",
       "      <th>Max Temp</th>\n",
       "      <th>Humidity</th>\n",
       "      <th>Cloudiness</th>\n",
       "      <th>Wind Speed</th>\n",
       "      <th>Country</th>\n",
       "      <th>Date</th>\n",
       "    </tr>\n",
       "  </thead>\n",
       "  <tbody>\n",
       "    <tr>\n",
       "      <th>80</th>\n",
       "      <td>80</td>\n",
       "      <td>Pellérd</td>\n",
       "      <td>46.0344</td>\n",
       "      <td>18.154</td>\n",
       "      <td>297.62</td>\n",
       "      <td>60</td>\n",
       "      <td>0</td>\n",
       "      <td>2.57</td>\n",
       "      <td>HU</td>\n",
       "      <td>1628047996</td>\n",
       "    </tr>\n",
       "    <tr>\n",
       "      <th>138</th>\n",
       "      <td>138</td>\n",
       "      <td>Hasaki</td>\n",
       "      <td>35.7333</td>\n",
       "      <td>140.8333</td>\n",
       "      <td>296.37</td>\n",
       "      <td>89</td>\n",
       "      <td>0</td>\n",
       "      <td>1.63</td>\n",
       "      <td>JP</td>\n",
       "      <td>1628106443</td>\n",
       "    </tr>\n",
       "    <tr>\n",
       "      <th>207</th>\n",
       "      <td>207</td>\n",
       "      <td>Emirdağ</td>\n",
       "      <td>39.0197</td>\n",
       "      <td>31.15</td>\n",
       "      <td>296.79</td>\n",
       "      <td>37</td>\n",
       "      <td>0</td>\n",
       "      <td>0.47</td>\n",
       "      <td>TR</td>\n",
       "      <td>1628045921</td>\n",
       "    </tr>\n",
       "    <tr>\n",
       "      <th>288</th>\n",
       "      <td>288</td>\n",
       "      <td>Lagoa</td>\n",
       "      <td>39.05</td>\n",
       "      <td>-27.9833</td>\n",
       "      <td>295.83</td>\n",
       "      <td>89</td>\n",
       "      <td>0</td>\n",
       "      <td>5.87</td>\n",
       "      <td>PT</td>\n",
       "      <td>1628060118</td>\n",
       "    </tr>\n",
       "    <tr>\n",
       "      <th>311</th>\n",
       "      <td>311</td>\n",
       "      <td>Benguela</td>\n",
       "      <td>-12.5763</td>\n",
       "      <td>13.4055</td>\n",
       "      <td>294.77</td>\n",
       "      <td>85</td>\n",
       "      <td>0</td>\n",
       "      <td>0.61</td>\n",
       "      <td>AO</td>\n",
       "      <td>1628054683</td>\n",
       "    </tr>\n",
       "  </tbody>\n",
       "</table>\n",
       "</div>"
      ],
      "text/plain": [
       "    Unnamed: 0      City       Lat       Lng Max Temp Humidity Cloudiness  \\\n",
       "80          80   Pellérd   46.0344    18.154   297.62       60          0   \n",
       "138        138    Hasaki   35.7333  140.8333   296.37       89          0   \n",
       "207        207   Emirdağ   39.0197     31.15   296.79       37          0   \n",
       "288        288     Lagoa     39.05  -27.9833   295.83       89          0   \n",
       "311        311  Benguela  -12.5763   13.4055   294.77       85          0   \n",
       "\n",
       "    Wind Speed Country        Date  \n",
       "80        2.57      HU  1628047996  \n",
       "138       1.63      JP  1628106443  \n",
       "207       0.47      TR  1628045921  \n",
       "288       5.87      PT  1628060118  \n",
       "311       0.61      AO  1628054683  "
      ]
     },
     "execution_count": 102,
     "metadata": {},
     "output_type": "execute_result"
    }
   ],
   "source": [
    "# Note: Temperature was stored as kelvin instead of farenheit, for reasons that are unknown to me.\n",
    "weather_data_ideal = weather_data_original.loc[((weather_data_original['Max Temp'].astype(float) > 294.26) & (weather_data_original['Max Temp'].astype(float) < 299.82))]\n",
    "                                              #(weather_data_original['Wind Speed'].astype(float) < 10.00) | (weather_data_original['Cloudiness'] == 0)\n",
    "weather_data_idealer = weather_data_ideal.loc[(weather_data_ideal['Wind Speed'].astype(float) < 10.00)]\n",
    "\n",
    "weather_data_idealest = weather_data_idealer.loc[(weather_data_idealer['Cloudiness'].astype(float) == 0)]\n",
    "weather_data_idealest.head()"
   ]
  },
  {
   "cell_type": "markdown",
   "metadata": {},
   "source": [
    "### Hotel Map\n",
    "* Store into variable named `hotel_df`.\n",
    "* Add a \"Hotel Name\" column to the DataFrame.\n",
    "* Set parameters to search for hotels with 5000 meters.\n",
    "* Hit the Google Places API for each city's coordinates.\n",
    "* Store the first Hotel result into the DataFrame.\n",
    "* Plot markers on top of the heatmap."
   ]
  },
  {
   "cell_type": "code",
   "execution_count": 103,
   "metadata": {},
   "outputs": [
    {
     "name": "stdout",
     "output_type": "stream",
     "text": [
      "    Unnamed: 0      City       Lat       Lng Max Temp Humidity Cloudiness  \\\n",
      "80          80   Pellérd   46.0344    18.154   297.62       60          0   \n",
      "138        138    Hasaki   35.7333  140.8333   296.37       89          0   \n",
      "207        207   Emirdağ   39.0197     31.15   296.79       37          0   \n",
      "288        288     Lagoa     39.05  -27.9833   295.83       89          0   \n",
      "311        311  Benguela  -12.5763   13.4055   294.77       85          0   \n",
      "482        482   Shimoda   34.6667    138.95   295.43       84          0   \n",
      "484        484  Londrina  -23.3103  -51.1628   294.96       37          0   \n",
      "493        493   Vysokyy   49.8906     36.12   295.14       46          0   \n",
      "\n",
      "    Wind Speed Country        Date  \n",
      "80        2.57      HU  1628047996  \n",
      "138       1.63      JP  1628106443  \n",
      "207       0.47      TR  1628045921  \n",
      "288       5.87      PT  1628060118  \n",
      "311       0.61      AO  1628054683  \n",
      "482       3.14      JP  1628107019  \n",
      "484       4.63      BR  1628071047  \n",
      "493        2.0      UA  1628042967  \n"
     ]
    }
   ],
   "source": [
    "# Store into variable named hotel_df.\n",
    "hotel_df = pd.DataFrame(weather_data_idealest)\n",
    "print(hotel_df)"
   ]
  },
  {
   "cell_type": "code",
   "execution_count": 104,
   "metadata": {},
   "outputs": [],
   "source": [
    "# Add a \"Hotel Name\" column to the DataFrame.\n",
    "hotel_df[\"Hotel Name\"] = \"\""
   ]
  },
  {
   "cell_type": "code",
   "execution_count": 105,
   "metadata": {},
   "outputs": [],
   "source": [
    "# Set parameters to search for hotels with 5000 meters.\n",
    "base_url = \"https://maps.googleapis.com/maps/api/place/nearbysearch/json?\"\n",
    "params = {\n",
    "    \"location\": \"\",\n",
    "    \"radius\": 5000,\n",
    "    \"type\": \"lodging\",\n",
    "    \"key\": g_key\n",
    "}"
   ]
  },
  {
   "cell_type": "code",
   "execution_count": 106,
   "metadata": {},
   "outputs": [
    {
     "name": "stdout",
     "output_type": "stream",
     "text": [
      "The first hotel found in Pellérd is Hotel Laterum Pécs.\n",
      "The first hotel found in Hasaki is Hotel Sunrise Choshi.\n",
      "The first hotel found in Emirdağ is Emirdağ Öğretmenevi.\n",
      "The first hotel found in Lagoa is Casa Das Faias.\n",
      "The first hotel found in Benguela is Hotel Praia Morena.\n",
      "The first hotel found in Shimoda is Shimoda Tokyu Hotel.\n",
      "The first hotel found in Londrina is Hotel Crillon em Londrina.\n",
      "The first hotel found in Vysokyy is ACAPULCO.\n"
     ]
    }
   ],
   "source": [
    "# Hit the Google Places API for each city's coordinates.\n",
    "for index, row in hotel_df.iterrows():\n",
    "    params['location'] = f\"{row['Lat']},{row['Lng']}\"\n",
    "    # params['keyword']\n",
    "    response = requests.get(base_url, params=params).json()\n",
    "    results = response['results']\n",
    "\n",
    "# Store the first Hotel result into the DataFrame.\n",
    "    try:\n",
    "        print(f\"The first hotel found in {row['City']} is {results[0]['name']}.\")\n",
    "              \n",
    "        hotel_df.loc[index, 'Hotel Name'] = results[0]['name']\n",
    "        \n",
    "    except(KeyError, IndexError):\n",
    "        print(\"------------------\")"
   ]
  },
  {
   "cell_type": "code",
   "execution_count": 107,
   "metadata": {},
   "outputs": [],
   "source": [
    "# NOTE: Do not change any of the code in this cell\n",
    "\n",
    "# Using the template add the hotel marks to the heatmap\n",
    "info_box_template = \"\"\"\n",
    "<dl>\n",
    "<dt>Name</dt><dd>{Hotel Name}</dd>\n",
    "<dt>City</dt><dd>{City}</dd>\n",
    "<dt>Country</dt><dd>{Country}</dd>\n",
    "</dl>\n",
    "\"\"\"\n",
    "# Store the DataFrame Row\n",
    "# NOTE: be sure to update with your DataFrame name\n",
    "hotel_info = [info_box_template.format(**row) for index, row in hotel_df.iterrows()]\n",
    "locations = hotel_df[[\"Lat\", \"Lng\"]].astype(float)"
   ]
  },
  {
   "cell_type": "code",
   "execution_count": 108,
   "metadata": {},
   "outputs": [
    {
     "data": {
      "application/vnd.jupyter.widget-view+json": {
       "model_id": "5bcf6705d6c74b78a8213eb7829e61b8",
       "version_major": 2,
       "version_minor": 0
      },
      "text/plain": [
       "Figure(layout=FigureLayout(height='420px'))"
      ]
     },
     "metadata": {},
     "output_type": "display_data"
    }
   ],
   "source": [
    "# Add marker layer on top of heat map\n",
    "marker_layer = gmaps.marker_layer(locations, info_box_content = hotel_info)\n",
    "fig = gmaps.figure()\n",
    "fig.add_layer(marker_layer)\n",
    "fig.add_layer(heat_layer)\n",
    "\n",
    "# Display figure\n",
    "fig"
   ]
  },
  {
   "cell_type": "code",
   "execution_count": null,
   "metadata": {},
   "outputs": [],
   "source": []
  }
 ],
 "metadata": {
  "kernelspec": {
   "display_name": "Python 3",
   "language": "python",
   "name": "python3"
  },
  "language_info": {
   "codemirror_mode": {
    "name": "ipython",
    "version": 3
   },
   "file_extension": ".py",
   "mimetype": "text/x-python",
   "name": "python",
   "nbconvert_exporter": "python",
   "pygments_lexer": "ipython3",
   "version": "3.7.10"
  },
  "latex_envs": {
   "LaTeX_envs_menu_present": true,
   "autoclose": false,
   "autocomplete": true,
   "bibliofile": "biblio.bib",
   "cite_by": "apalike",
   "current_citInitial": 1,
   "eqLabelWithNumbers": true,
   "eqNumInitial": 1,
   "hotkeys": {
    "equation": "Ctrl-E",
    "itemize": "Ctrl-I"
   },
   "labels_anchors": false,
   "latex_user_defs": false,
   "report_style_numbering": false,
   "user_envs_cfg": false
  }
 },
 "nbformat": 4,
 "nbformat_minor": 4
}
