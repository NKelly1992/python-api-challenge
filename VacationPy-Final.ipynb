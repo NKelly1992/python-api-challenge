{
 "cells": [
  {
   "cell_type": "markdown",
   "metadata": {},
   "source": [
    "# VacationPy\n",
    "----\n",
    "\n",
    "#### Note\n",
    "* Keep an eye on your API usage. Use https://developers.google.com/maps/reporting/gmp-reporting as reference for how to monitor your usage and billing.\n",
    "\n",
    "* Instructions have been included for each segment. You do not have to follow them exactly, but they are included to help you think through the steps."
   ]
  },
  {
   "cell_type": "code",
   "execution_count": 1,
   "metadata": {},
   "outputs": [],
   "source": [
    "# Dependencies and Setup\n",
    "import matplotlib.pyplot as plt\n",
    "import pandas as pd\n",
    "import numpy as np\n",
    "import requests\n",
    "import gmaps\n",
    "import os\n",
    "\n",
    "# Import API key\n",
    "from api_keys import g_key"
   ]
  },
  {
   "cell_type": "markdown",
   "metadata": {},
   "source": [
    "### Store Part I results into DataFrame\n",
    "* Load the csv exported in Part I to a DataFrame"
   ]
  },
  {
   "cell_type": "code",
   "execution_count": 2,
   "metadata": {},
   "outputs": [
    {
     "data": {
      "text/html": [
       "<div>\n",
       "<style scoped>\n",
       "    .dataframe tbody tr th:only-of-type {\n",
       "        vertical-align: middle;\n",
       "    }\n",
       "\n",
       "    .dataframe tbody tr th {\n",
       "        vertical-align: top;\n",
       "    }\n",
       "\n",
       "    .dataframe thead th {\n",
       "        text-align: right;\n",
       "    }\n",
       "</style>\n",
       "<table border=\"1\" class=\"dataframe\">\n",
       "  <thead>\n",
       "    <tr style=\"text-align: right;\">\n",
       "      <th></th>\n",
       "      <th>Unnamed: 0</th>\n",
       "      <th>City</th>\n",
       "      <th>Lat</th>\n",
       "      <th>Lng</th>\n",
       "      <th>Max Temp</th>\n",
       "      <th>Humidity</th>\n",
       "      <th>Cloudiness</th>\n",
       "      <th>Wind Speed</th>\n",
       "      <th>Country</th>\n",
       "      <th>Date</th>\n",
       "    </tr>\n",
       "  </thead>\n",
       "  <tbody>\n",
       "    <tr>\n",
       "      <th>0</th>\n",
       "      <td>0</td>\n",
       "      <td>Punta Arenas</td>\n",
       "      <td>-53.15</td>\n",
       "      <td>-70.9167</td>\n",
       "      <td>51.12</td>\n",
       "      <td>66</td>\n",
       "      <td>0</td>\n",
       "      <td>19.57</td>\n",
       "      <td>CL</td>\n",
       "      <td>1628079633</td>\n",
       "    </tr>\n",
       "    <tr>\n",
       "      <th>1</th>\n",
       "      <td>1</td>\n",
       "      <td>Itarema</td>\n",
       "      <td>-2.9248</td>\n",
       "      <td>-39.9167</td>\n",
       "      <td>79.81</td>\n",
       "      <td>78</td>\n",
       "      <td>75</td>\n",
       "      <td>12.55</td>\n",
       "      <td>BR</td>\n",
       "      <td>1628066751</td>\n",
       "    </tr>\n",
       "    <tr>\n",
       "      <th>2</th>\n",
       "      <td>2</td>\n",
       "      <td>Albany</td>\n",
       "      <td>42.6001</td>\n",
       "      <td>-73.9662</td>\n",
       "      <td>76.64</td>\n",
       "      <td>65</td>\n",
       "      <td>100</td>\n",
       "      <td>2.35</td>\n",
       "      <td>US</td>\n",
       "      <td>1628070667</td>\n",
       "    </tr>\n",
       "    <tr>\n",
       "      <th>3</th>\n",
       "      <td>3</td>\n",
       "      <td>Mataura</td>\n",
       "      <td>-46.1927</td>\n",
       "      <td>168.8643</td>\n",
       "      <td>44.47</td>\n",
       "      <td>70</td>\n",
       "      <td>100</td>\n",
       "      <td>5.39</td>\n",
       "      <td>NZ</td>\n",
       "      <td>1628107190</td>\n",
       "    </tr>\n",
       "    <tr>\n",
       "      <th>4</th>\n",
       "      <td>4</td>\n",
       "      <td>Geraldton</td>\n",
       "      <td>-28.7667</td>\n",
       "      <td>114.6</td>\n",
       "      <td>44.13</td>\n",
       "      <td>93</td>\n",
       "      <td>0</td>\n",
       "      <td>6.91</td>\n",
       "      <td>AU</td>\n",
       "      <td>1628118135</td>\n",
       "    </tr>\n",
       "  </tbody>\n",
       "</table>\n",
       "</div>"
      ],
      "text/plain": [
       "  Unnamed: 0          City       Lat       Lng Max Temp Humidity Cloudiness  \\\n",
       "0          0  Punta Arenas    -53.15  -70.9167    51.12       66          0   \n",
       "1          1       Itarema   -2.9248  -39.9167    79.81       78         75   \n",
       "2          2        Albany   42.6001  -73.9662    76.64       65        100   \n",
       "3          3       Mataura  -46.1927  168.8643    44.47       70        100   \n",
       "4          4     Geraldton  -28.7667     114.6    44.13       93          0   \n",
       "\n",
       "  Wind Speed Country        Date  \n",
       "0      19.57      CL  1628079633  \n",
       "1      12.55      BR  1628066751  \n",
       "2       2.35      US  1628070667  \n",
       "3       5.39      NZ  1628107190  \n",
       "4       6.91      AU  1628118135  "
      ]
     },
     "execution_count": 2,
     "metadata": {},
     "output_type": "execute_result"
    }
   ],
   "source": [
    "# Note: python would only acknowledge the existence of the weather data file if I gave it the whole file address. This has been a persistent problem for me, and I don't know how to resolve it.\n",
    "weather_data_file = \"C:\\\\Users\\\\pippi\\\\OneDrive\\\\Documents\\\\nu-chi-data-pt-06-2021-u-c-master\\\\06-Python-APIs\\\\Homework\\\\due_July29\\\\Instructions\\\\output_data\\\\weather_data.csv\"\n",
    "weather_data_original = pd.read_csv(weather_data_file, dtype = \"object\", encoding = 'utf-8')\n",
    "weather_data_original.head()"
   ]
  },
  {
   "cell_type": "markdown",
   "metadata": {},
   "source": [
    "### Humidity Heatmap\n",
    "* Configure gmaps.\n",
    "* Use the Lat and Lng as locations and Humidity as the weight.\n",
    "* Add Heatmap layer to map."
   ]
  },
  {
   "cell_type": "code",
   "execution_count": 3,
   "metadata": {},
   "outputs": [],
   "source": [
    "# Configure gmaps\n",
    "gmaps.configure(api_key=g_key)"
   ]
  },
  {
   "cell_type": "code",
   "execution_count": 4,
   "metadata": {},
   "outputs": [
    {
     "data": {
      "application/vnd.jupyter.widget-view+json": {
       "model_id": "338d662fa6544824be37390f2708f862",
       "version_major": 2,
       "version_minor": 0
      },
      "text/plain": [
       "Figure(layout=FigureLayout(height='420px'))"
      ]
     },
     "metadata": {},
     "output_type": "display_data"
    }
   ],
   "source": [
    "# Use the Lat and Lng as locations and Humidity as the weight.\n",
    "locations = weather_data_original[[\"Lat\", \"Lng\"]].astype(float)\n",
    "humidity = weather_data_original['Humidity']\n",
    "\n",
    "# Create the Heatmap\n",
    "fig = gmaps.figure()\n",
    "\n",
    "heat_layer = gmaps.heatmap_layer(locations, weights = humidity,\n",
    "                                dissipating=False, max_intensity=100,\n",
    "                                point_radius = 1)\n",
    "\n",
    "fig.add_layer(heat_layer)\n",
    "\n",
    "fig"
   ]
  },
  {
   "cell_type": "markdown",
   "metadata": {},
   "source": [
    "### Create new DataFrame fitting weather criteria\n",
    "* Narrow down the cities to fit weather conditions.\n",
    "* Drop any rows will null values."
   ]
  },
  {
   "cell_type": "code",
   "execution_count": 12,
   "metadata": {},
   "outputs": [
    {
     "data": {
      "text/html": [
       "<div>\n",
       "<style scoped>\n",
       "    .dataframe tbody tr th:only-of-type {\n",
       "        vertical-align: middle;\n",
       "    }\n",
       "\n",
       "    .dataframe tbody tr th {\n",
       "        vertical-align: top;\n",
       "    }\n",
       "\n",
       "    .dataframe thead th {\n",
       "        text-align: right;\n",
       "    }\n",
       "</style>\n",
       "<table border=\"1\" class=\"dataframe\">\n",
       "  <thead>\n",
       "    <tr style=\"text-align: right;\">\n",
       "      <th></th>\n",
       "      <th>Unnamed: 0</th>\n",
       "      <th>City</th>\n",
       "      <th>Lat</th>\n",
       "      <th>Lng</th>\n",
       "      <th>Max Temp</th>\n",
       "      <th>Humidity</th>\n",
       "      <th>Cloudiness</th>\n",
       "      <th>Wind Speed</th>\n",
       "      <th>Country</th>\n",
       "      <th>Date</th>\n",
       "    </tr>\n",
       "  </thead>\n",
       "  <tbody>\n",
       "    <tr>\n",
       "      <th>8</th>\n",
       "      <td>8</td>\n",
       "      <td>Chapais</td>\n",
       "      <td>49.7834</td>\n",
       "      <td>-74.8492</td>\n",
       "      <td>71.38</td>\n",
       "      <td>54</td>\n",
       "      <td>0</td>\n",
       "      <td>4.36</td>\n",
       "      <td>CA</td>\n",
       "      <td>1628069647</td>\n",
       "    </tr>\n",
       "    <tr>\n",
       "      <th>165</th>\n",
       "      <td>165</td>\n",
       "      <td>Bayir</td>\n",
       "      <td>37.2687</td>\n",
       "      <td>28.2167</td>\n",
       "      <td>77.52</td>\n",
       "      <td>31</td>\n",
       "      <td>0</td>\n",
       "      <td>5.77</td>\n",
       "      <td>TR</td>\n",
       "      <td>1628133302</td>\n",
       "    </tr>\n",
       "    <tr>\n",
       "      <th>203</th>\n",
       "      <td>203</td>\n",
       "      <td>Ribeira Grande</td>\n",
       "      <td>38.5167</td>\n",
       "      <td>-28.7</td>\n",
       "      <td>72.99</td>\n",
       "      <td>89</td>\n",
       "      <td>0</td>\n",
       "      <td>6.89</td>\n",
       "      <td>PT</td>\n",
       "      <td>1628060360</td>\n",
       "    </tr>\n",
       "    <tr>\n",
       "      <th>228</th>\n",
       "      <td>228</td>\n",
       "      <td>Mitsamiouli</td>\n",
       "      <td>-11.3847</td>\n",
       "      <td>43.2844</td>\n",
       "      <td>74.59</td>\n",
       "      <td>73</td>\n",
       "      <td>0</td>\n",
       "      <td>1.57</td>\n",
       "      <td>KM</td>\n",
       "      <td>1628133803</td>\n",
       "    </tr>\n",
       "    <tr>\n",
       "      <th>245</th>\n",
       "      <td>245</td>\n",
       "      <td>Mashhad</td>\n",
       "      <td>36.297</td>\n",
       "      <td>59.6062</td>\n",
       "      <td>77.14</td>\n",
       "      <td>38</td>\n",
       "      <td>0</td>\n",
       "      <td>4.61</td>\n",
       "      <td>IR</td>\n",
       "      <td>1628125881</td>\n",
       "    </tr>\n",
       "  </tbody>\n",
       "</table>\n",
       "</div>"
      ],
      "text/plain": [
       "    Unnamed: 0            City       Lat       Lng Max Temp Humidity  \\\n",
       "8            8         Chapais   49.7834  -74.8492    71.38       54   \n",
       "165        165           Bayir   37.2687   28.2167    77.52       31   \n",
       "203        203  Ribeira Grande   38.5167     -28.7    72.99       89   \n",
       "228        228     Mitsamiouli  -11.3847   43.2844    74.59       73   \n",
       "245        245         Mashhad    36.297   59.6062    77.14       38   \n",
       "\n",
       "    Cloudiness Wind Speed Country        Date  \n",
       "8            0       4.36      CA  1628069647  \n",
       "165          0       5.77      TR  1628133302  \n",
       "203          0       6.89      PT  1628060360  \n",
       "228          0       1.57      KM  1628133803  \n",
       "245          0       4.61      IR  1628125881  "
      ]
     },
     "execution_count": 12,
     "metadata": {},
     "output_type": "execute_result"
    }
   ],
   "source": [
    "# Narrow down the cities to fit weather conditions\n",
    "weather_data_ideal = weather_data_original.loc[((weather_data_original['Max Temp'].astype(float) > 70) & (weather_data_original['Max Temp'].astype(float) < 80))]\n",
    "                                              #(weather_data_original['Wind Speed'].astype(float) < 10.00) | (weather_data_original['Cloudiness'] == 0)\n",
    "weather_data_idealer = weather_data_ideal.loc[(weather_data_ideal['Wind Speed'].astype(float) < 10.00)]\n",
    "\n",
    "weather_data_idealest = weather_data_idealer.loc[(weather_data_idealer['Cloudiness'].astype(float) == 0)]\n",
    "weather_data_idealest.head()"
   ]
  },
  {
   "cell_type": "markdown",
   "metadata": {},
   "source": [
    "### Hotel Map\n",
    "* Store into variable named `hotel_df`.\n",
    "* Add a \"Hotel Name\" column to the DataFrame.\n",
    "* Set parameters to search for hotels with 5000 meters.\n",
    "* Hit the Google Places API for each city's coordinates.\n",
    "* Store the first Hotel result into the DataFrame.\n",
    "* Plot markers on top of the heatmap."
   ]
  },
  {
   "cell_type": "code",
   "execution_count": 13,
   "metadata": {},
   "outputs": [
    {
     "name": "stdout",
     "output_type": "stream",
     "text": [
      "    Unnamed: 0            City       Lat       Lng Max Temp Humidity  \\\n",
      "8            8         Chapais   49.7834  -74.8492    71.38       54   \n",
      "165        165           Bayir   37.2687   28.2167    77.52       31   \n",
      "203        203  Ribeira Grande   38.5167     -28.7    72.99       89   \n",
      "228        228     Mitsamiouli  -11.3847   43.2844    74.59       73   \n",
      "245        245         Mashhad    36.297   59.6062    77.14       38   \n",
      "271        271        Bandrele  -12.9067   45.1914    71.35       88   \n",
      "299        299         Cayenne    4.9333  -52.3333    79.09       84   \n",
      "414        414    Marsá Maţrūḩ   31.3525   27.2453     79.0       89   \n",
      "425        425             Fes   34.0372   -4.9998    77.25       43   \n",
      "\n",
      "    Cloudiness Wind Speed Country        Date  \n",
      "8            0       4.36      CA  1628069647  \n",
      "165          0       5.77      TR  1628133302  \n",
      "203          0       6.89      PT  1628060360  \n",
      "228          0       1.57      KM  1628133803  \n",
      "245          0       4.61      IR  1628125881  \n",
      "271          0       3.44      YT  1628133460  \n",
      "299          0       1.01      GF  1628069147  \n",
      "414          0       6.91      EG  1628134205  \n",
      "425          0       9.22      MA  1628141657  \n"
     ]
    }
   ],
   "source": [
    "# Store into variable named hotel_df.\n",
    "hotel_df = pd.DataFrame(weather_data_idealest)\n",
    "print(hotel_df)"
   ]
  },
  {
   "cell_type": "code",
   "execution_count": 14,
   "metadata": {},
   "outputs": [],
   "source": [
    "# Add a \"Hotel Name\" column to the DataFrame.\n",
    "hotel_df[\"Hotel Name\"] = \"\""
   ]
  },
  {
   "cell_type": "code",
   "execution_count": 15,
   "metadata": {},
   "outputs": [],
   "source": [
    "# Set parameters to search for hotels with 5000 meters.\n",
    "base_url = \"https://maps.googleapis.com/maps/api/place/nearbysearch/json?\"\n",
    "params = {\n",
    "    \"location\": \"\",\n",
    "    \"radius\": 5000,\n",
    "    \"type\": \"lodging\",\n",
    "    \"key\": g_key\n",
    "}"
   ]
  },
  {
   "cell_type": "code",
   "execution_count": 16,
   "metadata": {},
   "outputs": [
    {
     "name": "stdout",
     "output_type": "stream",
     "text": [
      "The first hotel found in Chapais is Hôtel Opémiska.\n",
      "The first hotel found in Bayir is Hotel Babadag.\n",
      "The first hotel found in Ribeira Grande is Quinta da Meia Eira.\n",
      "The first hotel found in Mitsamiouli is Foyer ADM.\n",
      "The first hotel found in Mashhad is Khanye Sabz Hotel.\n",
      "The first hotel found in Bandrele is Les Baobabs.\n",
      "The first hotel found in Cayenne is Hôtel Le Dronmi.\n",
      "The first hotel found in Marsá Maţrūḩ is Beau Site.\n",
      "The first hotel found in Fes is Hotel Mounia Fès.\n"
     ]
    }
   ],
   "source": [
    "# Hit the Google Places API for each city's coordinates.\n",
    "for index, row in hotel_df.iterrows():\n",
    "    params['location'] = f\"{row['Lat']},{row['Lng']}\"\n",
    "    # params['keyword']\n",
    "    response = requests.get(base_url, params=params).json()\n",
    "    results = response['results']\n",
    "\n",
    "# Store the first Hotel result into the DataFrame.\n",
    "    try:\n",
    "        print(f\"The first hotel found in {row['City']} is {results[0]['name']}.\")\n",
    "              \n",
    "        hotel_df.loc[index, 'Hotel Name'] = results[0]['name']\n",
    "        \n",
    "    except(KeyError, IndexError):\n",
    "        print(\"------------------\")"
   ]
  },
  {
   "cell_type": "code",
   "execution_count": 17,
   "metadata": {},
   "outputs": [],
   "source": [
    "# NOTE: Do not change any of the code in this cell\n",
    "\n",
    "# Using the template add the hotel marks to the heatmap\n",
    "info_box_template = \"\"\"\n",
    "<dl>\n",
    "<dt>Name</dt><dd>{Hotel Name}</dd>\n",
    "<dt>City</dt><dd>{City}</dd>\n",
    "<dt>Country</dt><dd>{Country}</dd>\n",
    "</dl>\n",
    "\"\"\"\n",
    "# Store the DataFrame Row\n",
    "# NOTE: be sure to update with your DataFrame name\n",
    "hotel_info = [info_box_template.format(**row) for index, row in hotel_df.iterrows()]\n",
    "locations = hotel_df[[\"Lat\", \"Lng\"]].astype(float)"
   ]
  },
  {
   "cell_type": "code",
   "execution_count": 18,
   "metadata": {},
   "outputs": [
    {
     "data": {
      "application/vnd.jupyter.widget-view+json": {
       "model_id": "ab05488c701d4f10ac02113351d6bf9b",
       "version_major": 2,
       "version_minor": 0
      },
      "text/plain": [
       "Figure(layout=FigureLayout(height='420px'))"
      ]
     },
     "metadata": {},
     "output_type": "display_data"
    }
   ],
   "source": [
    "# Add marker layer on top of heat map\n",
    "marker_layer = gmaps.marker_layer(locations, info_box_content = hotel_info)\n",
    "fig = gmaps.figure()\n",
    "fig.add_layer(marker_layer)\n",
    "fig.add_layer(heat_layer)\n",
    "\n",
    "# Display figure\n",
    "fig"
   ]
  },
  {
   "cell_type": "code",
   "execution_count": null,
   "metadata": {},
   "outputs": [],
   "source": []
  }
 ],
 "metadata": {
  "kernelspec": {
   "display_name": "Python 3",
   "language": "python",
   "name": "python3"
  },
  "language_info": {
   "codemirror_mode": {
    "name": "ipython",
    "version": 3
   },
   "file_extension": ".py",
   "mimetype": "text/x-python",
   "name": "python",
   "nbconvert_exporter": "python",
   "pygments_lexer": "ipython3",
   "version": "3.7.10"
  },
  "latex_envs": {
   "LaTeX_envs_menu_present": true,
   "autoclose": false,
   "autocomplete": true,
   "bibliofile": "biblio.bib",
   "cite_by": "apalike",
   "current_citInitial": 1,
   "eqLabelWithNumbers": true,
   "eqNumInitial": 1,
   "hotkeys": {
    "equation": "Ctrl-E",
    "itemize": "Ctrl-I"
   },
   "labels_anchors": false,
   "latex_user_defs": false,
   "report_style_numbering": false,
   "user_envs_cfg": false
  }
 },
 "nbformat": 4,
 "nbformat_minor": 4
}
